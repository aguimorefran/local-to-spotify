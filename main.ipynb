{
 "cells": [
  {
   "cell_type": "code",
   "execution_count": 9,
   "metadata": {},
   "outputs": [],
   "source": [
    "import os\n",
    "import eyed3\n",
    "import spotipy\n",
    "from dotenv import load_dotenv"
   ]
  },
  {
   "cell_type": "code",
   "execution_count": 10,
   "metadata": {},
   "outputs": [
    {
     "name": "stdout",
     "output_type": "stream",
     "text": [
      "MP3 files in the music folder:  882\n",
      "['(I Just) Died in Your Arms Ton.mp3', \"- 'Bohemian Rhapsody'.mp3\", \"- 'Don't Stop Me Now'.mp3\", '- Aqualung.mp3', '- Beds Are Burning.mp3']\n"
     ]
    }
   ],
   "source": [
    "# Get all the .mp3 files of the music folder\n",
    "\n",
    "folder = 'H:/Musica'\n",
    "files = [f for f in os.listdir(folder) if f.endswith('.mp3')]\n",
    "\n",
    "print(\"MP3 files in the music folder: \", len(files))\n",
    "print(files[:5])"
   ]
  },
  {
   "cell_type": "code",
   "execution_count": 11,
   "metadata": {},
   "outputs": [],
   "source": [
    "%%capture\n",
    "# Get the metadata of every song file and save it in tuple title, artist, album\n",
    "# Cell without output\n",
    "\n",
    "data = []\n",
    "failed = []\n",
    "for f in files:\n",
    "    try:\n",
    "        audiofile = eyed3.load(folder + '/' + f)\n",
    "        title = audiofile.tag.title\n",
    "        artist = audiofile.tag.artist\n",
    "        album = audiofile.tag.album\n",
    "        data.append((title, artist, album))\n",
    "    except:\n",
    "        failed.append(f)"
   ]
  },
  {
   "cell_type": "code",
   "execution_count": 12,
   "metadata": {},
   "outputs": [
    {
     "name": "stdout",
     "output_type": "stream",
     "text": [
      "Number of files with metadata:  876\n",
      "Number of files without metadata:  6 ['All That She Wants.mp3', 'M-O-O-N - Delay.mp3', 'Promise Me.mp3', 'Queen - I Want It All - Remastered 2011.mp3', 'Queen - I Want To Break Free - Remastered 2011 (1).mp3', 'Supertramp - Give A Little Bit.mp3']\n"
     ]
    }
   ],
   "source": [
    "print(\"Number of files with metadata: \", len(data))\n",
    "print(\"Number of files without metadata: \", len(failed), failed)"
   ]
  },
  {
   "cell_type": "code",
   "execution_count": 13,
   "metadata": {},
   "outputs": [
    {
     "name": "stdout",
     "output_type": "stream",
     "text": [
      "aguimorefran 3722163c4c494db9bc4e4d68a48754b6 b33c57ccc6e741adb7732fb2bf7cf588 http://127.0.0.1:8080/\n"
     ]
    }
   ],
   "source": [
    "# Spotify API\n",
    "load_dotenv()\n",
    "spotify_username = os.getenv('spotify_username')\n",
    "spotify_client_id = os.getenv('SPOTIPY_CLIENT_ID')\n",
    "spotify_client_secret = os.getenv('SPOTIPY_CLIENT_SECRET')\n",
    "spotify_redirect_uri = os.getenv('SPOTIPY_REDIRECT_URI')\n",
    "print(spotify_username, spotify_client_id, spotify_client_secret, spotify_redirect_uri)"
   ]
  },
  {
   "cell_type": "code",
   "execution_count": 14,
   "metadata": {},
   "outputs": [
    {
     "name": "stdout",
     "output_type": "stream",
     "text": [
      "Playlist already exists\n",
      "Playlist id:  6CqnG0BN0WCdKnVtJyqj4r\n"
     ]
    }
   ],
   "source": [
    "# Create the playlist\n",
    "playlist_name = \"ipodLocal\"\n",
    "scope = 'playlist-modify-public'\n",
    "token = spotipy.util.prompt_for_user_token(spotify_username, scope, client_id=spotify_client_id, client_secret=spotify_client_secret, redirect_uri=spotify_redirect_uri)\n",
    "sp = spotipy.Spotify(auth=token)\n",
    "\n",
    "# Create if not exists\n",
    "playlist_id = None\n",
    "playlists = sp.user_playlists(spotify_username)\n",
    "for playlist in playlists['items']:\n",
    "    if playlist['name'] == playlist_name:\n",
    "        playlist_id = playlist['id']\n",
    "        print(\"Playlist already exists\")\n",
    "        break\n",
    "\n",
    "if playlist_id is None:\n",
    "    playlist = sp.user_playlist_create(spotify_username, playlist_name)\n",
    "    playlist_id = playlist['id']\n",
    "    print(\"Playlist created\")\n",
    "\n",
    "print(\"Playlist id: \", playlist_id)\n"
   ]
  },
  {
   "cell_type": "code",
   "execution_count": 17,
   "metadata": {},
   "outputs": [
    {
     "name": "stdout",
     "output_type": "stream",
     "text": [
      "Progress:  0 / 876\n",
      "Progress:  10 / 876\n",
      "Progress:  20 / 876\n",
      "Progress:  30 / 876\n",
      "Progress:  40 / 876\n",
      "Progress:  50 / 876\n",
      "Progress:  60 / 876\n",
      "Progress:  70 / 876\n",
      "Progress:  80 / 876\n",
      "Progress:  90 / 876\n",
      "Progress:  100 / 876\n",
      "Progress:  110 / 876\n",
      "Progress:  120 / 876\n",
      "Progress:  130 / 876\n",
      "Progress:  140 / 876\n",
      "Progress:  150 / 876\n",
      "Progress:  160 / 876\n",
      "Progress:  170 / 876\n",
      "Progress:  180 / 876\n",
      "Progress:  190 / 876\n",
      "Progress:  200 / 876\n",
      "Progress:  210 / 876\n",
      "Progress:  220 / 876\n",
      "Progress:  230 / 876\n",
      "Progress:  240 / 876\n",
      "Progress:  250 / 876\n",
      "Progress:  260 / 876\n",
      "Progress:  270 / 876\n",
      "Progress:  280 / 876\n",
      "Progress:  290 / 876\n",
      "Progress:  300 / 876\n",
      "Progress:  310 / 876\n",
      "Progress:  320 / 876\n",
      "Progress:  330 / 876\n",
      "Progress:  340 / 876\n",
      "Progress:  350 / 876\n",
      "Progress:  360 / 876\n",
      "Progress:  370 / 876\n",
      "Progress:  380 / 876\n",
      "Progress:  390 / 876\n",
      "Progress:  400 / 876\n",
      "Progress:  410 / 876\n",
      "Progress:  420 / 876\n",
      "Progress:  430 / 876\n",
      "Progress:  440 / 876\n",
      "Progress:  450 / 876\n",
      "Progress:  460 / 876\n",
      "Progress:  470 / 876\n",
      "Progress:  480 / 876\n",
      "Progress:  490 / 876\n",
      "Progress:  500 / 876\n",
      "Progress:  510 / 876\n",
      "Progress:  520 / 876\n",
      "Progress:  530 / 876\n",
      "Progress:  540 / 876\n",
      "Progress:  550 / 876\n",
      "Progress:  560 / 876\n",
      "Progress:  570 / 876\n",
      "Progress:  580 / 876\n",
      "Progress:  590 / 876\n",
      "Progress:  600 / 876\n",
      "Progress:  610 / 876\n",
      "Progress:  620 / 876\n",
      "Progress:  630 / 876\n",
      "Progress:  640 / 876\n",
      "Progress:  650 / 876\n",
      "Progress:  660 / 876\n",
      "Progress:  670 / 876\n",
      "Progress:  680 / 876\n",
      "Progress:  690 / 876\n",
      "Progress:  700 / 876\n",
      "Progress:  710 / 876\n",
      "Progress:  720 / 876\n",
      "Progress:  730 / 876\n",
      "Progress:  740 / 876\n",
      "Progress:  750 / 876\n",
      "Progress:  760 / 876\n",
      "Progress:  770 / 876\n",
      "Progress:  780 / 876\n",
      "Progress:  790 / 876\n",
      "Progress:  800 / 876\n",
      "Progress:  810 / 876\n",
      "Progress:  820 / 876\n",
      "Progress:  830 / 876\n",
      "Progress:  840 / 876\n",
      "Progress:  850 / 876\n",
      "Progress:  860 / 876\n",
      "Progress:  870 / 876\n"
     ]
    }
   ],
   "source": [
    "# Search the songs in Spotify and add them to the playlist\n",
    "\n",
    "# Tracks already added to the playlist\n",
    "playlist_tracks = sp.user_playlist_tracks(spotify_username, playlist_id)\n",
    "playlist_tracks_ids = [track['track']['id'] for track in playlist_tracks['items']]\n",
    "\n",
    "failed_search = []\n",
    "for idx, song in enumerate(data):\n",
    "    title, artist, album = song\n",
    "    if title is None:\n",
    "        title = ''\n",
    "    if artist is None:\n",
    "        artist = ''\n",
    "    query = 'artist:' + artist + ' track:' + title\n",
    "    results = sp.search(q=query, limit=1)\n",
    "    if len(results['tracks']['items']) > 0:\n",
    "        track = results['tracks']['items'][0]\n",
    "        track_id = track['id']\n",
    "        # Check if the song is already in the playlist\n",
    "        if track_id not in playlist_tracks_ids:\n",
    "            sp.user_playlist_add_tracks(spotify_username, playlist_id, [track_id])\n",
    "\n",
    "    else:\n",
    "        # Clean name. Remove symbols and numbers\n",
    "        title = ''.join(e for e in title if e.isalnum())\n",
    "        query = 'artist:' + artist + ' track:' + title\n",
    "        results = sp.search(q=query, limit=1)\n",
    "        if len(results['tracks']['items']) > 0:\n",
    "            track = results['tracks']['items'][0]\n",
    "            track_id = track['id']\n",
    "            sp.user_playlist_add_tracks(spotify_username, playlist_id, [track_id])\n",
    "        else:\n",
    "            failed_search.append(song)\n",
    "\n",
    "    # Print the progress\n",
    "    if idx % 10 == 0:\n",
    "        print(\"Progress: \", idx, \"/\", len(data))"
   ]
  },
  {
   "cell_type": "code",
   "execution_count": 27,
   "metadata": {},
   "outputs": [
    {
     "name": "stdout",
     "output_type": "stream",
     "text": [
      "Songs not found:  104\n",
      "Progress:  0 / 104\n",
      "Progress:  10 / 104\n",
      "Progress:  20 / 104\n",
      "Progress:  30 / 104\n",
      "Progress:  40 / 104\n",
      "Progress:  50 / 104\n",
      "Progress:  60 / 104\n",
      "Progress:  70 / 104\n",
      "Progress:  80 / 104\n",
      "Progress:  90 / 104\n",
      "Progress:  100 / 104\n"
     ]
    }
   ],
   "source": [
    "# Print the songs that couldn't be found\n",
    "print(\"Songs not found: \", len(failed_search))\n",
    "\n",
    "# Get tracks again\n",
    "playlist_tracks = sp.user_playlist_tracks(spotify_username, playlist_id)\n",
    "playlist_tracks_ids = [track['track']['id'] for track in playlist_tracks['items']]\n",
    "\n",
    "# Remove parenthesis from the title and everything inside\n",
    "for idx, song in enumerate(failed_search):\n",
    "    title, artist, album = song\n",
    "    if title is None:\n",
    "        title = ''\n",
    "    if artist is None:\n",
    "        artist = ''\n",
    "    if '(' in title:\n",
    "        title = title[:title.index('(')]\n",
    "    query = artist.strip() + ' ' + title.strip()\n",
    "    results = sp.search(q=query, limit=1)\n",
    "    if len(results['tracks']['items']) > 0:\n",
    "        track = results['tracks']['items'][0]\n",
    "        track_id = track['id']\n",
    "        if track_id not in playlist_tracks_ids:\n",
    "            sp.user_playlist_add_tracks(spotify_username, playlist_id, [track_id])\n",
    "    \n",
    "    # Print the progress\n",
    "    if idx % 10 == 0:\n",
    "        print(\"Progress: \", idx, \"/\", len(failed_search))"
   ]
  },
  {
   "cell_type": "code",
   "execution_count": 26,
   "metadata": {},
   "outputs": [
    {
     "name": "stdout",
     "output_type": "stream",
     "text": [
      "Songs not found:  104\n"
     ]
    }
   ],
   "source": [
    "# Print the songs that couldn't be found\n",
    "print(\"Songs not found: \", len(failed_search))"
   ]
  },
  {
   "cell_type": "code",
   "execution_count": 29,
   "metadata": {},
   "outputs": [
    {
     "data": {
      "text/plain": [
       "{'snapshot_id': 'ODc3LDkwYzBiYWZmYzU0MjFmYTcyZWRiMzAyYWIxOWZjYjI0MDUwMmM4OTU='}"
      ]
     },
     "execution_count": 29,
     "metadata": {},
     "output_type": "execute_result"
    }
   ],
   "source": [
    "# Remove repeated songs\n",
    "playlist_tracks = sp.user_playlist_tracks(spotify_username, playlist_id)\n",
    "playlist_tracks_ids = [track['track']['id'] for track in playlist_tracks['items']]\n",
    "playlist_tracks_ids = list(set(playlist_tracks_ids))\n",
    "\n",
    "# Remove repeated songs\n",
    "sp.user_playlist_replace_tracks(spotify_username, playlist_id, playlist_tracks_ids)\n"
   ]
  }
 ],
 "metadata": {
  "kernelspec": {
   "display_name": "Python 3.9.15 ('local-to-spotify')",
   "language": "python",
   "name": "python3"
  },
  "language_info": {
   "codemirror_mode": {
    "name": "ipython",
    "version": 3
   },
   "file_extension": ".py",
   "mimetype": "text/x-python",
   "name": "python",
   "nbconvert_exporter": "python",
   "pygments_lexer": "ipython3",
   "version": "3.9.15"
  },
  "orig_nbformat": 4,
  "vscode": {
   "interpreter": {
    "hash": "8868988ac848d5cdff9ad53159035d7e104bbfd88101e4756e96060fd3b54dc9"
   }
  }
 },
 "nbformat": 4,
 "nbformat_minor": 2
}
